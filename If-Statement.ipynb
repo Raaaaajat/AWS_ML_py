{
 "cells": [
  {
   "cell_type": "code",
   "execution_count": 6,
   "metadata": {},
   "outputs": [
    {
     "name": "stdout",
     "output_type": "stream",
     "text": [
      "Value is negative\n"
     ]
    }
   ],
   "source": [
    "x = -3\n",
    "\n",
    "if x > 0:\n",
    "    print(\"Value is positive\")\n",
    "\n",
    "elif x < 0:\n",
    "    print(\"Value is negative\")\n",
    "\n",
    "else:\n",
    "    print(\"Value is zero\")"
   ]
  },
  {
   "cell_type": "code",
   "execution_count": 17,
   "metadata": {},
   "outputs": [
    {
     "name": "stdout",
     "output_type": "stream",
     "text": [
      "Enter the marks secured 47\n",
      "luttapi has passed in the exam\n"
     ]
    }
   ],
   "source": [
    "name = \"luttapi\"\n",
    "mark = int(input(\"Enter the marks secured \"))\n",
    "\n",
    "if mark < 45:\n",
    "    print(name, \"has failed in the exam\")\n",
    "        \n",
    "elif mark > 45:\n",
    "    print(name, \"has passed in the exam\")\n",
    "        \n",
    "else:\n",
    "    print(name,\"has secured\",mark,\"marks in the exam\")"
   ]
  },
  {
   "cell_type": "code",
   "execution_count": 18,
   "metadata": {},
   "outputs": [
    {
     "name": "stdout",
     "output_type": "stream",
     "text": [
      "Enter value: 3\n",
      "Yes\n",
      "Yes\n"
     ]
    }
   ],
   "source": [
    "x = int(input(\"Enter value: \"))\n",
    "\n",
    "if x < 10:\n",
    "    s = \"Yes\"\n",
    "else:\n",
    "    s = \"No\"\n",
    "print(s)\n",
    "\n",
    "# Could also be written onto one line\n",
    "s = \"Yes\" if x < 10 else \"No\"\n",
    "print(s)"
   ]
  },
  {
   "cell_type": "code",
   "execution_count": 55,
   "metadata": {},
   "outputs": [
    {
     "name": "stdout",
     "output_type": "stream",
     "text": [
      "Out of range\n"
     ]
    }
   ],
   "source": [
    "x = 15\n",
    "\n",
    "#if x > 0 and x < 10:\n",
    "if 0 < x < 10: #is also possible\n",
    "    print(\"In range A\")\n",
    "    '''else:\n",
    "        print(\"not in range\")'''\n",
    "elif (x < 0) or (x > 10):\n",
    "    print(\"Out of range\")\n",
    "\n"
   ]
  },
  {
   "cell_type": "code",
   "execution_count": 56,
   "metadata": {},
   "outputs": [
    {
     "name": "stdout",
     "output_type": "stream",
     "text": [
      "[123, 54, 92, 87, 33]\n",
      "Are values of y and x the same? True\n",
      "Are objects y and x the same? False\n",
      "Are values of z and x the same? True\n",
      "Are objects z and x the same? True\n",
      "[123, 23, 92, 87, 33]\n",
      "Are values of y and x the same? False\n",
      "Are objects y and x the same? False\n",
      "Are values of z and x the same? True\n",
      "Are objects z and x the same? True\n"
     ]
    }
   ],
   "source": [
    "x = [123, 54, 92, 87, 33]\n",
    "y = x[:] # y is a copy of x\n",
    "z = x\n",
    "print(x)\n",
    "print(\"Are values of y and x the same?\", y == x)\n",
    "print(\"Are objects y and x the same?\", y is x)\n",
    "print(\"Are values of z and x the same?\", z == x)\n",
    "print(\"Are objects z and x the same?\", z is x)\n",
    "# Let's change x\n",
    "x[1] = 23\n",
    "print(x)\n",
    "print(\"Are values of y and x the same?\", y == x)\n",
    "print(\"Are objects y and x the same?\", y is x)\n",
    "print(\"Are values of z and x the same?\", z == x)\n",
    "print(\"Are objects z and x the same?\", z is x)"
   ]
  },
  {
   "cell_type": "code",
   "execution_count": 59,
   "metadata": {},
   "outputs": [
    {
     "name": "stdout",
     "output_type": "stream",
     "text": [
      "x is false\n",
      "y is true\n"
     ]
    }
   ],
   "source": [
    "x = ''      # An empty string\n",
    "y = ['a']   # A list with one item\n",
    "\n",
    "if x:\n",
    "    print(\"x is true\")\n",
    "else: \n",
    "    print(\"x is false\")     \n",
    "\n",
    "if y:\n",
    "    print(\"y is true\")\n",
    "else:\n",
    "    print(\"y is false\")"
   ]
  }
 ],
 "metadata": {
  "kernelspec": {
   "display_name": "Python 3 (ipykernel)",
   "language": "python",
   "name": "python3"
  },
  "language_info": {
   "codemirror_mode": {
    "name": "ipython",
    "version": 3
   },
   "file_extension": ".py",
   "mimetype": "text/x-python",
   "name": "python",
   "nbconvert_exporter": "python",
   "pygments_lexer": "ipython3",
   "version": "3.9.7"
  }
 },
 "nbformat": 4,
 "nbformat_minor": 1
}
